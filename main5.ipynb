{
 "cells": [
  {
   "cell_type": "markdown",
   "metadata": {},
   "source": [
    "Modélise une expérience avec deux issues possibles (succès ou échec).\n",
    "Paramètre : p (probabilité de succès).\n",
    "Exemple : Lancer d’une pièce équilibrée (succès = face).\n",
    "\n",
    "Activité:\n",
    "Une entreprise fabrique des composants électroniques avec un taux de défectuosité de 5 %.\n",
    "Ouvrir le fichier Dataset_composants_defectueux.csv\n",
    "Estimer p la probabilité qu’un composant soit défectueux."
   ]
  },
  {
   "cell_type": "code",
   "execution_count": 22,
   "metadata": {},
   "outputs": [
    {
     "name": "stdout",
     "output_type": "stream",
     "text": [
      "La probabilité qu'un composant soit défectueux est de 7.22%\n"
     ]
    },
    {
     "data": {
      "image/png": "[encoded data removed]",
      "text/plain": [
       "<Figure size 640x480 with 1 Axes>"
      ]
     },
     "metadata": {},
     "output_type": "display_data"
    }
   ],
   "source": [
    "import pandas as pd\n",
    "import matplotlib.pyplot as plt\n",
    "\n",
    "# Load the dataset\n",
    "df = pd.read_csv('Dataset_composants_defectueux.csv', skip_blank_lines=True)\n",
    "# Calculate the probability of a defective component\n",
    "p = df['defectueux'].mean()\n",
    "print(f\"La probabilité qu'un composant soit défectueux est de {p:.2%}\")\n",
    "#nombre de pieces defectueuses ou non valuescount\n",
    "df['defectueux'].value_counts()\n",
    "\n",
    "plt.hist(df['defectueux'], bins=range(0, 21), edgecolor='black')\n",
    "plt.xlabel('Nombre de puces défectueuses par lot')\n",
    "plt.ylabel('Fréquence')\n",
    "plt.title('Distribution du nombre de puces défectueuses par lot')\n",
    "plt.show()\n",
    "\n"
   ]
  },
  {
   "cell_type": "markdown",
   "metadata": {},
   "source": [
    "Contexte:\n",
    "Une entreprise fabrique des puces électroniques. Lors des contrôles qualité, chaque lot de production contient 20 puces, et chaque puce a une probabilité de 10 % d’être défectueuse. On veut estimer combien de puces défectueuses apparaissent en moyenne par lot en analysant 500 lots.\n",
    "\n",
    "Lire le fichier Dataset_lot_puce_defectueuses.csv\n",
    "Estimation globale : Quelle est la proportion moyenne de puces défectueuses dans l’ensemble des lots ?\n",
    "Variabilité : Quelle est la distribution du nombre de puces défectueuses par lot (histogramme) ?\n",
    "Probabilité d’un lot problématique : Quelle est la probabilité qu’un lot contienne au moins 5 puces défectueuses ?\n",
    "Décision qualité : Si l’entreprise rejette tout lot contenant 5 puces défectueuses ou plus, quel pourcentage des lots sera rejeté ?\n",
    "Amélioration : En supposant que l’entreprise veut réduire le taux de rejet à 5 %, quel taux de défectuosité maximal une puce devrait avoir ? (Tester plusieurs valeurs de p)\n",
    "\n"
   ]
  },
  {
   "cell_type": "code",
   "execution_count": 36,
   "metadata": {},
   "outputs": [],
   "source": [
    "#lire le fichier csv\n",
    "df2= pd.read_csv('Dataset_lot_puce_defectueuses.csv', sep=\",\", skip_blank_lines=True)\n"
   ]
  },
  {
   "cell_type": "code",
   "execution_count": 37,
   "metadata": {},
   "outputs": [
    {
     "data": {
      "text/html": [
       "<div>\n",
       "<style scoped>\n",
       "    .dataframe tbody tr th:only-of-type {\n",
       "        vertical-align: middle;\n",
       "    }\n",
       "\n",
       "    .dataframe tbody tr th {\n",
       "        vertical-align: top;\n",
       "    }\n",
       "\n",
       "    .dataframe thead th {\n",
       "        text-align: right;\n",
       "    }\n",
       "</style>\n",
       "<table border=\"1\" class=\"dataframe\">\n",
       "  <thead>\n",
       "    <tr style=\"text-align: right;\">\n",
       "      <th></th>\n",
       "      <th>id_puce</th>\n",
       "      <th>lot_id</th>\n",
       "      <th>défectueux</th>\n",
       "    </tr>\n",
       "  </thead>\n",
       "  <tbody>\n",
       "    <tr>\n",
       "      <th>9249</th>\n",
       "      <td>9250</td>\n",
       "      <td>463</td>\n",
       "      <td>Non défectueux</td>\n",
       "    </tr>\n",
       "    <tr>\n",
       "      <th>4289</th>\n",
       "      <td>4290</td>\n",
       "      <td>215</td>\n",
       "      <td>Défectueux</td>\n",
       "    </tr>\n",
       "    <tr>\n",
       "      <th>3030</th>\n",
       "      <td>3031</td>\n",
       "      <td>152</td>\n",
       "      <td>Non défectueux</td>\n",
       "    </tr>\n",
       "    <tr>\n",
       "      <th>5232</th>\n",
       "      <td>5233</td>\n",
       "      <td>262</td>\n",
       "      <td>Non défectueux</td>\n",
       "    </tr>\n",
       "    <tr>\n",
       "      <th>4650</th>\n",
       "      <td>4651</td>\n",
       "      <td>233</td>\n",
       "      <td>Non défectueux</td>\n",
       "    </tr>\n",
       "  </tbody>\n",
       "</table>\n",
       "</div>"
      ],
      "text/plain": [
       "      id_puce  lot_id      défectueux\n",
       "9249     9250     463  Non défectueux\n",
       "4289     4290     215      Défectueux\n",
       "3030     3031     152  Non défectueux\n",
       "5232     5233     262  Non défectueux\n",
       "4650     4651     233  Non défectueux"
      ]
     },
     "execution_count": 37,
     "metadata": {},
     "output_type": "execute_result"
    }
   ],
   "source": [
    "df2.sample(5)"
   ]
  },
  {
   "cell_type": "code",
   "execution_count": 38,
   "metadata": {},
   "outputs": [
    {
     "name": "stdout",
     "output_type": "stream",
     "text": [
      "La proportion moyenne de puces défectueuses dans l’ensemble des lots est de 9.95%\n"
     ]
    }
   ],
   "source": [
    "# Calculer la proportion moyenne de puces défectueuses\n",
    "proportion_defectueuse = (df2['défectueux'] == 'Défectueux').mean()\n",
    "print(f\"La proportion moyenne de puces défectueuses dans l’ensemble des lots est de {proportion_defectueuse:.2%}\")"
   ]
  },
  {
   "cell_type": "code",
   "execution_count": 39,
   "metadata": {},
   "outputs": [
    {
     "data": {
      "image/png": "[encoded data removed]",
      "text/plain": [
       "<Figure size 640x480 with 1 Axes>"
      ]
     },
     "metadata": {},
     "output_type": "display_data"
    }
   ],
   "source": [
    "# Calculate the number of defective chips per lot\n",
    "defective_per_lot = df2[df2['défectueux'] == 'Défectueux'].groupby('lot_id').size()\n",
    "\n",
    "# Plot the histogram\n",
    "plt.hist(defective_per_lot, bins=range(0, 21), edgecolor='black')\n",
    "plt.xlabel('Nombre de puces défectueuses par lot')\n",
    "plt.ylabel('Fréquence')\n",
    "plt.title('Distribution du nombre de puces défectueuses par lot')\n",
    "plt.show()"
   ]
  },
  {
   "cell_type": "code",
   "execution_count": 42,
   "metadata": {},
   "outputs": [
    {
     "name": "stdout",
     "output_type": "stream",
     "text": [
      "La probabilité d'avoir au moins 5 puces défectueuses par lot est de 4.32%\n"
     ]
    }
   ],
   "source": [
    "from scipy.stats import binom\n",
    "\n",
    "# Numbre de puces par lot\n",
    "n = 20\n",
    "# Probability of a lot being defective\n",
    "p_defective = 0.10\n",
    "\n",
    "# Calculate the probability of having at least 5 defective  lot\n",
    "p_at_least_5_defective = 1 - binom.cdf(4, n, p_defective)\n",
    "print(f\"La probabilité d'avoir au moins 5 puces défectueuses par lot est de {p_at_least_5_defective:.2%}\")"
   ]
  },
  {
   "cell_type": "code",
   "execution_count": 43,
   "metadata": {},
   "outputs": [
    {
     "name": "stdout",
     "output_type": "stream",
     "text": [
      "Le pourcentage des lots rejetés est de 5.17%\n"
     ]
    }
   ],
   "source": [
    "# Calculate the percentage of rejected lots\n",
    "rejected_lots = (defective_per_lot >= 5).mean() * 100\n",
    "print(f\"Le pourcentage des lots rejetés est de {rejected_lots:.2f}%\")"
   ]
  },
  {
   "cell_type": "code",
   "execution_count": 44,
   "metadata": {},
   "outputs": [
    {
     "name": "stdout",
     "output_type": "stream",
     "text": [
      "Le taux de défectuosité maximal pour réduire le taux de rejet à 5.0% est de 0.000%\n"
     ]
    }
   ],
   "source": [
    "# Function to calculate the percentage of rejected lots for a given defect probability\n",
    "def calculate_rejected_lots(p_defective, n=20, threshold=5):\n",
    "    # Calculate the probability of having at least 'threshold' defective chips in a lot\n",
    "    p_at_least_threshold_defective = 1 - binom.cdf(threshold - 1, n, p_defective)\n",
    "    return p_at_least_threshold_defective * 100\n",
    "\n",
    "# Target rejection rate\n",
    "target_rejection_rate = 5.0\n",
    "\n",
    "# Initialize variables\n",
    "p_defective_max = 0.0\n",
    "step = 0.001\n",
    "\n",
    "# Iterate to find the maximum defect probability that meets the target rejection rate\n",
    "while True:\n",
    "    rejection_rate = calculate_rejected_lots(p_defective_max)\n",
    "    if rejection_rate <= target_rejection_rate:\n",
    "        break\n",
    "    p_defective_max += step\n",
    "\n",
    "print(f\"Le taux de défectuosité maximal pour réduire le taux de rejet à {target_rejection_rate}% est de {p_defective_max:.3%}\")"
   ]
  }
 ],
 "metadata": {
  "kernelspec": {
   "display_name": "Python 3",
   "language": "python",
   "name": "python3"
  },
  "language_info": {
   "codemirror_mode": {
    "name": "ipython",
    "version": 3
   },
   "file_extension": ".py",
   "mimetype": "text/x-python",
   "name": "python",
   "nbconvert_exporter": "python",
   "pygments_lexer": "ipython3",
   "version": "3.12.8"
  }
 },
 "nbformat": 4,
 "nbformat_minor": 2
}
