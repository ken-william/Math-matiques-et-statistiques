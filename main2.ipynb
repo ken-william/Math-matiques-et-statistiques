{
 "cells": [
  {
   "cell_type": "code",
   "execution_count": 7,
   "metadata": {},
   "outputs": [],
   "source": [
    "import numpy as np\n",
    "import pandas as pd\n",
    "\n",
    "#lire csv Position_paris_reims.csv\n",
    "df = pd.read_csv('Position_paris_reims.csv', sep=',')"
   ]
  },
  {
   "cell_type": "code",
   "execution_count": 9,
   "metadata": {},
   "outputs": [
    {
     "data": {
      "text/html": [
       "<div>\n",
       "<style scoped>\n",
       "    .dataframe tbody tr th:only-of-type {\n",
       "        vertical-align: middle;\n",
       "    }\n",
       "\n",
       "    .dataframe tbody tr th {\n",
       "        vertical-align: top;\n",
       "    }\n",
       "\n",
       "    .dataframe thead th {\n",
       "        text-align: right;\n",
       "    }\n",
       "</style>\n",
       "<table border=\"1\" class=\"dataframe\">\n",
       "  <thead>\n",
       "    <tr style=\"text-align: right;\">\n",
       "      <th></th>\n",
       "      <th>time_minutes</th>\n",
       "      <th>position_km</th>\n",
       "    </tr>\n",
       "  </thead>\n",
       "  <tbody>\n",
       "    <tr>\n",
       "      <th>0</th>\n",
       "      <td>0.00</td>\n",
       "      <td>1.81</td>\n",
       "    </tr>\n",
       "    <tr>\n",
       "      <th>1</th>\n",
       "      <td>7.48</td>\n",
       "      <td>4.62</td>\n",
       "    </tr>\n",
       "    <tr>\n",
       "      <th>2</th>\n",
       "      <td>8.21</td>\n",
       "      <td>7.10</td>\n",
       "    </tr>\n",
       "    <tr>\n",
       "      <th>3</th>\n",
       "      <td>9.27</td>\n",
       "      <td>8.55</td>\n",
       "    </tr>\n",
       "    <tr>\n",
       "      <th>4</th>\n",
       "      <td>10.10</td>\n",
       "      <td>10.43</td>\n",
       "    </tr>\n",
       "  </tbody>\n",
       "</table>\n",
       "</div>"
      ],
      "text/plain": [
       "   time_minutes  position_km\n",
       "0          0.00         1.81\n",
       "1          7.48         4.62\n",
       "2          8.21         7.10\n",
       "3          9.27         8.55\n",
       "4         10.10        10.43"
      ]
     },
     "execution_count": 9,
     "metadata": {},
     "output_type": "execute_result"
    }
   ],
   "source": [
    "df.head(5)"
   ]
  },
  {
   "cell_type": "code",
   "execution_count": 21,
   "metadata": {},
   "outputs": [],
   "source": [
    "#mettre dans des numpy array\n",
    "horaire = df['time_minutes']\n",
    "position = df['position_km']"
   ]
  },
  {
   "cell_type": "code",
   "execution_count": 22,
   "metadata": {},
   "outputs": [
    {
     "name": "stdout",
     "output_type": "stream",
     "text": [
      "Vitesse moyenne à l'index 14: 1.2386666666666666 km/min\n"
     ]
    }
   ],
   "source": [
    "def calculer_vitesse_moyenne(index):\n",
    "    if index < 0 or index >= len(position):\n",
    "        raise ValueError(\"Index out of range\")\n",
    "    vitesse_moyenne = (position[index] - position[0]) / (horaire[index] - horaire[0])\n",
    "    return vitesse_moyenne\n",
    "\n",
    "# Exemple d'utilisation\n",
    "index = 14\n",
    "vitesse_moyenne = calculer_vitesse_moyenne(index)\n",
    "print(f\"Vitesse moyenne à l'index {index}: {vitesse_moyenne} km/min\")"
   ]
  },
  {
   "cell_type": "code",
   "execution_count": 23,
   "metadata": {
    "vscode": {
     "languageId": "ruby"
    }
   },
   "outputs": [
    {
     "name": "stdout",
     "output_type": "stream",
     "text": [
      "Vitesse moyenne entre les index 0 et 14: 1.2386666666666666 km/min\n"
     ]
    }
   ],
   "source": [
    "def calculer_vitesse_moyenne_custom(start_index, end_index, start_position, end_position, start_time, end_time):\n",
    "    if start_index < 0 or start_index >= len(position) or end_index < 0 or end_index >= len(position):\n",
    "        raise ValueError(\"Index out of range\")\n",
    "    vitesse_moyenne = (end_position - start_position) / (end_time - start_time)\n",
    "    return vitesse_moyenne\n",
    "\n",
    "start_index = 0\n",
    "end_index = 14\n",
    "start_position = position[start_index]\n",
    "end_position = position[end_index]\n",
    "start_time = horaire[start_index]\n",
    "end_time = horaire[end_index]\n",
    "\n",
    "vitesse_moyenne_custom = calculer_vitesse_moyenne_custom(start_index, end_index, start_position, end_position, start_time, end_time)\n",
    "print(f\"Vitesse moyenne entre les index {start_index} et {end_index}: {vitesse_moyenne_custom} km/min\")"
   ]
  },
  {
   "cell_type": "code",
   "execution_count": 25,
   "metadata": {
    "vscode": {
     "languageId": "ruby"
    }
   },
   "outputs": [
    {
     "name": "stdout",
     "output_type": "stream",
     "text": [
      "Vitesse moyenne entre les temps 60.0 et 30.0: 1.459666666666667 km/min\n"
     ]
    }
   ],
   "source": [
    "def trouver_index_par_temps(temps):\n",
    "    index = horaire[horaire == temps].index\n",
    "    if len(index) == 0:\n",
    "        raise ValueError(\"Temps non trouvé dans les données\")\n",
    "    return index[0]\n",
    "\n",
    "def calculer_variation_vitesse_moyenne(start_time, end_time):\n",
    "    start_index = trouver_index_par_temps(start_time)\n",
    "    end_index = trouver_index_par_temps(end_time)\n",
    "    start_position = position[start_index]\n",
    "    end_position = position[end_index]\n",
    "    vitesse_moyenne = (end_position - start_position) / (end_time - start_time)\n",
    "    return vitesse_moyenne\n",
    "\n",
    "# Exemple d'utilisation\n",
    "start_time = 60.0\n",
    "end_time = 30.0\n",
    "\n",
    "vitesse_moyenne = calculer_variation_vitesse_moyenne(start_time, end_time)\n",
    "print(f\"Vitesse moyenne entre les temps {start_time} et {end_time}: {vitesse_moyenne} km/min\")"
   ]
  },
  {
   "cell_type": "code",
   "execution_count": 16,
   "metadata": {},
   "outputs": [
    {
     "name": "stdout",
     "output_type": "stream",
     "text": [
      "1.2386666666666666\n"
     ]
    }
   ],
   "source": [
    "vitesse = (position[index] - position[0]) / (horaire[14] - horaire[0])\n",
    "print(vitesse)"
   ]
  }
 ],
 "metadata": {
  "kernelspec": {
   "display_name": "Python 3",
   "language": "python",
   "name": "python3"
  },
  "language_info": {
   "codemirror_mode": {
    "name": "ipython",
    "version": 3
   },
   "file_extension": ".py",
   "mimetype": "text/x-python",
   "name": "python",
   "nbconvert_exporter": "python",
   "pygments_lexer": "ipython3",
   "version": "3.12.8"
  }
 },
 "nbformat": 4,
 "nbformat_minor": 2
}
